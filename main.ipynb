{
 "metadata": {
  "language_info": {
   "codemirror_mode": {
    "name": "ipython",
    "version": 3
   },
   "file_extension": ".py",
   "mimetype": "text/x-python",
   "name": "python",
   "nbconvert_exporter": "python",
   "pygments_lexer": "ipython3",
   "version": "3.6.9-final"
  },
  "orig_nbformat": 2,
  "kernelspec": {
   "name": "python3",
   "display_name": "Python 3",
   "language": "python"
  }
 },
 "nbformat": 4,
 "nbformat_minor": 2,
 "cells": [
  {
   "source": [
    "# TicTacTrip data crunching"
   ],
   "cell_type": "markdown",
   "metadata": {}
  },
  {
   "source": [
    "## Question 1"
   ],
   "cell_type": "markdown",
   "metadata": {}
  },
  {
   "source": [
    "**basic imports**"
   ],
   "cell_type": "markdown",
   "metadata": {}
  },
  {
   "cell_type": "code",
   "execution_count": 1,
   "metadata": {},
   "outputs": [],
   "source": [
    "import numpy as np\n",
    "import pandas as pd"
   ]
  },
  {
   "source": [
    "**load the dataset**"
   ],
   "cell_type": "markdown",
   "metadata": {}
  },
  {
   "cell_type": "code",
   "execution_count": 2,
   "metadata": {},
   "outputs": [],
   "source": [
    "cities = pd.read_csv('data/cities.csv')\n",
    "providers = pd.read_csv('data/providers.csv')\n",
    "stations = pd.read_csv('data/stations.csv')\n",
    "ticket_data = pd.read_csv('data/ticket_data.csv')"
   ]
  },
  {
   "cell_type": "code",
   "execution_count": 3,
   "metadata": {},
   "outputs": [],
   "source": [
    "dataset = {'cities': cities, 'providers': providers, 'stations': stations, 'ticket_data': ticket_data}"
   ]
  },
  {
   "source": [
    "**Price statistics**"
   ],
   "cell_type": "markdown",
   "metadata": {}
  },
  {
   "cell_type": "code",
   "execution_count": 4,
   "metadata": {},
   "outputs": [
    {
     "output_type": "stream",
     "name": "stdout",
     "text": [
      "_________________________________________________________\n    Price statistics\n_________________________________________________________\n    number of NAN values in price_in_cents = 0\n    number of trips = 74168\n    min price = 3.0 €\n    max price = 385.5 €\n    median price = 33.5 €\n    mean price = 43.83 €\n    most trips have a price = 17.0 €\n_________________________________________________________\n"
     ]
    }
   ],
   "source": [
    "print('_________________________________________________________')\n",
    "print('    Price statistics')\n",
    "print('_________________________________________________________')\n",
    "print('    number of NAN values in price_in_cents =', ticket_data['price_in_cents'].isna().sum())\n",
    "print('    number of trips =', len(ticket_data))\n",
    "print('    min price =', round(ticket_data['price_in_cents'].min()/100, 2), '€')\n",
    "print('    max price =', round(ticket_data['price_in_cents'].max()/100, 2), '€')\n",
    "print('    median price =', round(ticket_data['price_in_cents'].median()/100, 2), '€')\n",
    "print('    mean price =', round(ticket_data['price_in_cents'].mean()/100, 2), '€')\n",
    "print('    most trips have a price =', round(ticket_data['price_in_cents'].value_counts().idxmax()/100, 2), '€')\n",
    "print('_________________________________________________________')"
   ]
  },
  {
   "cell_type": "code",
   "execution_count": 5,
   "metadata": {},
   "outputs": [
    {
     "output_type": "display_data",
     "data": {
      "text/plain": "<Figure size 640x480 with 1 Axes>"
     },
     "metadata": {}
    }
   ],
   "source": [
    "import matplotlib.pyplot as plt\n",
    "ticket_data['price'] = round(ticket_data['price_in_cents'] / 100, 2)\n",
    "ticket_data['bin'] = pd.cut(ticket_data['price'], bins=5)\n",
    "ticket_data.groupby('bin')['price'].count().plot(kind='bar', width=0.98)\n",
    "plt.xlabel('Price €')\n",
    "plt.ylabel('Number of trips')\n",
    "plt.show()"
   ]
  },
  {
   "cell_type": "code",
   "execution_count": 6,
   "metadata": {},
   "outputs": [
    {
     "output_type": "display_data",
     "data": {
      "text/plain": "<Figure size 432x288 with 1 Axes>",
      "image/png": "[encoded data removed]"
     },
     "metadata": {
      "needs_background": "light"
     }
    }
   ],
   "source": [
    "import matplotlib.pyplot as plt\n",
    "ticket_data['price'] = round(ticket_data['price_in_cents'] / 100, 2)\n",
    "plt.hist(ticket_data['price'], bins=5, color='c', edgecolor='k', alpha=0.65)\n",
    "plt.xlabel('Price €')\n",
    "plt.ylabel('Number of trips')\n",
    "# axe of mean\n",
    "min_ylim, max_ylim = plt.ylim()\n",
    "plt.text(ticket_data['price'].mean()*1.1, max_ylim*0.8, 'Mean: {:.2f} €'.format(ticket_data['price'].mean()), color='b')\n",
    "plt.axvline(ticket_data['price'].mean(), color='b', linestyle='dashed', linewidth=1)\n",
    "# axe of median\n",
    "min_ylim, max_ylim = plt.ylim()\n",
    "plt.text(ticket_data['price'].median()*1.1, max_ylim*0.9, 'Median: {:.2f} €'.format(ticket_data['price'].median()), color='r')\n",
    "plt.axvline(ticket_data['price'].median(), color='r', linestyle='dotted', linewidth=1)\n",
    "plt.show()"
   ]
  },
  {
   "source": [
    "**Duration statistics**"
   ],
   "cell_type": "markdown",
   "metadata": {}
  },
  {
   "source": [
    "first we need to get the duration from the ticket information"
   ],
   "cell_type": "markdown",
   "metadata": {}
  },
  {
   "cell_type": "code",
   "execution_count": 7,
   "metadata": {},
   "outputs": [],
   "source": [
    "# add duration column in hours\n",
    "fmt = '%Y-%m-%d %H:%M:%S+%f'\n",
    "ticket_data['departure_ts'] = pd.to_datetime(ticket_data['departure_ts'], format=fmt)\n",
    "ticket_data['arrival_ts'] = pd.to_datetime(ticket_data['arrival_ts'], format=fmt)\n",
    "ticket_data['duration'] = ticket_data['arrival_ts'] - ticket_data['departure_ts']\n",
    "ticket_data['duration'] = round(ticket_data['duration'].dt.seconds / 3600, 2)"
   ]
  },
  {
   "cell_type": "code",
   "execution_count": 8,
   "metadata": {},
   "outputs": [
    {
     "output_type": "stream",
     "name": "stdout",
     "text": [
      "_________________________________________________________\n    Duration statistics\n_________________________________________________________\n    number of NAN values in departure_ts = 0\n    number of NAN values in arrival_ts = 0\n    min duration = 0.0 hours\n    max duration = 23.97 hours\n    median duration = 4.82 hours\n    mean duration = 6.02 hours\n    most trips have a duration = 2.5 hours\n_________________________________________________________\n"
     ]
    }
   ],
   "source": [
    "print('_________________________________________________________')\n",
    "print('    Duration statistics')\n",
    "print('_________________________________________________________')\n",
    "print('    number of NAN values in departure_ts =', ticket_data['departure_ts'].isna().sum())\n",
    "print('    number of NAN values in arrival_ts =', ticket_data['arrival_ts'].isna().sum())\n",
    "print('    min duration =', round(ticket_data['duration'].min(), 2), 'hours')\n",
    "print('    max duration =', round(ticket_data['duration'].max(), 2), 'hours')\n",
    "print('    median duration =', round(ticket_data['duration'].median(), 2), 'hours')\n",
    "print('    mean duration =', round(ticket_data['duration'].mean(), 2), 'hours')\n",
    "print('    most trips have a duration =', round(ticket_data['duration'].value_counts().idxmax(), 2), 'hours')\n",
    "print('_________________________________________________________')"
   ]
  },
  {
   "cell_type": "code",
   "execution_count": 9,
   "metadata": {},
   "outputs": [
    {
     "output_type": "display_data",
     "data": {
      "text/plain": "<Figure size 432x288 with 1 Axes>",
      "image/png": "[encoded data removed]"
     },
     "metadata": {
      "needs_background": "light"
     }
    }
   ],
   "source": [
    "plt.hist(ticket_data['duration'], bins=5, color='g', edgecolor='k', alpha=0.65)\n",
    "plt.xlabel('Duration in hours')\n",
    "plt.ylabel('Number of trips')\n",
    "# axe of mean\n",
    "min_ylim, max_ylim = plt.ylim()\n",
    "plt.text(ticket_data['duration'].mean()*1.1, max_ylim*0.8, 'Mean: {:.2f} €'.format(ticket_data['duration'].mean()), color='b')\n",
    "plt.axvline(ticket_data['duration'].mean(), color='b', linestyle='dashed', linewidth=1)\n",
    "# axe of median\n",
    "min_ylim, max_ylim = plt.ylim()\n",
    "plt.text(ticket_data['duration'].median()*1.1, max_ylim*0.9, 'Median: {:.2f} €'.format(ticket_data['duration'].median()), color='r')\n",
    "plt.axvline(ticket_data['duration'].median(), color='r', linestyle='dotted', linewidth=1)\n",
    "plt.show()"
   ]
  },
  {
   "source": [
    "## Question 2"
   ],
   "cell_type": "markdown",
   "metadata": {}
  },
  {
   "source": [
    "First we need to cd to our current folder"
   ],
   "cell_type": "markdown",
   "metadata": {}
  },
  {
   "cell_type": "code",
   "execution_count": null,
   "metadata": {},
   "outputs": [],
   "source": [
    "import os\n",
    "os.getcwd()\n",
    "os.chdir(\"D:/HAKIM/M1 IA S2/Stage/TicTacTrip/code/\")\n",
    "os.getcwd()\n",
    "! set PYTHONPATH=%PYTHONPATH%;D:/HAKIM/M1 IA S2/Stage/TicTacTrip/code/"
   ]
  },
  {
   "source": [
    "### here we get the distances\n",
    "- the distance is the sum of the distances between all the stations (middle stations) in a ticket.  \n",
    "- if a ticket has no station, we use the city to calculate the distance.\n",
    "- the calculated distance is then saved into a csv file"
   ],
   "cell_type": "markdown",
   "metadata": {}
  },
  {
   "cell_type": "code",
   "execution_count": 14,
   "metadata": {
    "tags": []
   },
   "outputs": [
    {
     "output_type": "stream",
     "name": "stdout",
     "text": [
      "            id  company  o_station  d_station         departure_ts  \\\n0      6795025     8385        NaN        NaN  2017-10-13 14:00:00   \n1      6795026        9       63.0     1044.0  2017-10-13 13:05:00   \n2      6795027     8377     5905.0     6495.0  2017-10-13 13:27:00   \n3      6795028     8377     5905.0     6495.0  2017-10-13 13:27:00   \n4      6795029     8381     5905.0     6495.0  2017-10-13 21:46:00   \n...        ...      ...        ...        ...                  ...   \n74163  6869182       13      279.0    10729.0  2017-10-27 02:30:00   \n74164  6869185        9      279.0      304.0  2017-10-27 07:00:00   \n74165  6869187     8371    10642.0      304.0  2017-10-27 08:30:00   \n74166  6869189       13      279.0      304.0  2017-10-27 13:25:00   \n74167  6869191     8371    10642.0    10729.0  2017-10-27 14:45:00   \n\n                arrival_ts  price_in_cents                   search_ts  \\\n0      2017-10-13 20:10:00            4550  2017-10-01 00:13:31.327+00   \n1      2017-10-14 06:55:00            1450  2017-10-01 00:13:35.773+00   \n2      2017-10-14 21:24:00            7400  2017-10-01 00:13:40.212+00   \n3      2017-10-14 11:02:00           13500  2017-10-01 00:13:40.213+00   \n4      2017-10-14 19:32:00            7710  2017-10-01 00:13:40.213+00   \n...                    ...             ...                         ...   \n74163  2017-10-27 16:00:00            2590  2017-10-19 10:35:42.943+00   \n74164  2017-10-27 13:30:00            2700  2017-10-19 10:35:42.943+00   \n74165  2017-10-27 15:15:00            3000  2017-10-19 10:35:42.943+00   \n74166  2017-10-27 21:10:00            2880  2017-10-19 10:35:42.943+00   \n74167  2017-10-27 21:40:00            2000  2017-10-19 10:35:42.943+00   \n\n           middle_stations other_companies  o_city  d_city  price  \\\n0                      NaN             NaN     611     542   45.5   \n1                {149,418}            {13}     611     542   14.5   \n2      {798,798,6794,6246}     {8377,8376}     611     542   74.0   \n3      {798,798,6794,6246}     {8377,8376}     611     542  135.0   \n4              {5983,5983}          {8380}     611     542   77.1   \n...                    ...             ...     ...     ...    ...   \n74163            {408,408}          {8371}     628     562   25.9   \n74164          {1105,1105}             {9}     628     562   27.0   \n74165          {1105,1105}             {9}     628     562   30.0   \n74166            {863,863}            {13}     628     562   28.8   \n74167            {863,863}          {8371}     628     562   20.0   \n\n                 bin  duration   distance  bus  car  train  carpooling  \n0      (2.618, 79.5]      6.17   503.3551    0    0      0           1  \n1      (2.618, 79.5]     17.83   508.7198    1    0      0           0  \n2      (2.618, 79.5]      7.95  1085.6178    0    0      1           0  \n3      (79.5, 156.0]     21.58  1085.6178    0    0      1           0  \n4      (2.618, 79.5]     21.77   630.4207    0    0      1           0  \n...              ...       ...        ...  ...  ...    ...         ...  \n74163  (2.618, 79.5]     13.50   346.2900    1    0      0           0  \n74164  (2.618, 79.5]      6.50   340.0095    1    0      0           0  \n74165  (2.618, 79.5]      6.75   343.5181    1    0      0           0  \n74166  (2.618, 79.5]      7.75   372.6450    1    0      0           0  \n74167  (2.618, 79.5]      6.92   379.2339    1    0      0           0  \n\n[74168 rows x 20 columns]\n"
     ]
    }
   ],
   "source": [
    "from modules.Geo import Geo\n",
    "from modules.Manager import Manager\n",
    "# this is to load the new generated file\n",
    "ticket_data = pd.read_csv('data/ticket_data_transport_type.csv')\n",
    "# ticket_data['distance'] = round(ticket_data['distance'], 4)\n",
    "# ticket_data['transport_types'] = ticket_data.apply(lambda ticket: Manager.transportTypesOfTicketObject(ticket, providers), axis=1)\n",
    "# cp = ticket_data['transport_types']\n",
    "# bus = pd.DataFrame({'bus': ticket_data['transport_types'].apply(lambda e: 1 if 'bus' in e else 0)})\n",
    "# car = pd.DataFrame({'car': ticket_data['transport_types'].apply(lambda e: 1 if 'car' in e else 0)})\n",
    "# train = pd.DataFrame({'train': ticket_data['transport_types'].apply(lambda e: 1 if 'train' in e else 0)})\n",
    "# carpooling = pd.DataFrame({'carpooling': ticket_data['transport_types'].apply(lambda e: 1 if 'carpooling' in e else 0)})\n",
    "# res = bus.join(car).join(train).join(carpooling)\n",
    "# ticket_data = ticket_data.join(res)\n",
    "# get distances\n",
    "# ticket_data['distance'] = ticket_data.apply(lambda ticket: Geo.distanceOfTicketObject(ticket, stations, cities), axis=1)\n",
    "print(ticket_data)\n",
    "# del ticket_data['transport_types']\n",
    "# ticket_data.to_csv('data/ticket_data_transport_type.csv', encoding='utf-8', index=False)\n",
    "# print(Manager.transportTypesOfTicket(6795025, ticket_data, providers))\n",
    "# print(Geo.getLatLongStation(2, stations))\n",
    "# print(Geo.distanceOfTicket(6795027, ticket_data, stations), 'km')"
   ]
  },
  {
   "source": [
    "### For the price per transport type per distance"
   ],
   "cell_type": "markdown",
   "metadata": {}
  },
  {
   "cell_type": "code",
   "execution_count": 26,
   "metadata": {},
   "outputs": [
    {
     "output_type": "display_data",
     "data": {
      "text/plain": "<Figure size 432x288 with 1 Axes>",
      "image/png": "[encoded data removed]"
     },
     "metadata": {
      "needs_background": "light"
     }
    }
   ],
   "source": [
    "bins = [0, 200, 800, 2000, float('inf')]\n",
    "labels = ['0-200', '201-800', '801-2000', '+2001']\n",
    "ticket_data['distance_interval'] = pd.cut(ticket_data['distance'], bins, labels=labels, include_lowest=True)\n",
    "bus = ticket_data[(ticket_data['bus']==1)]\n",
    "mBus = bus.groupby('distance_interval')['price'].mean()\n",
    "mBus[3] = 0 if pd.isna(mBus[3]) else mBus[3]\n",
    "train = ticket_data[(ticket_data['train']==1)]\n",
    "mTrain = train.groupby('distance_interval')['price'].mean()\n",
    "mTrain[3] = 0 if pd.isna(mTrain[3]) else mTrain[3]\n",
    "carpooling = ticket_data[(ticket_data['carpooling']==1)]\n",
    "mCarpooling = carpooling.groupby('distance_interval')['price'].mean()\n",
    "mCarpooling[3] = 0 if pd.isna(mCarpooling[3]) else mCarpooling[3]\n",
    "ax = plt.subplot(111)\n",
    "barPositions = [1, 2, 3, 4]\n",
    "rBus = ax.bar(np.add((np.array(barPositions)), -0.2), mBus, width=0.2, color='r', align='center')\n",
    "rTrain = ax.bar(np.add((np.array(barPositions)), 0), mTrain, width=0.2, color='g', align='center')\n",
    "rCarpooling = ax.bar(np.add((np.array(barPositions)), +0.2), mCarpooling, width=0.2, color='b', align='center')\n",
    "# labels and legend\n",
    "ax.set_xticks(barPositions)\n",
    "ax.set_xticklabels(labels)\n",
    "colors = {'bus':'red', 'train':'green', 'carpooling':'blue'}         \n",
    "labels = list(colors.keys())\n",
    "handles = [plt.Rectangle((0,0),1,1, color=colors[label]) for label in labels]\n",
    "plt.legend(handles, labels)\n",
    "plt.xlabel('Distance KM')\n",
    "plt.ylabel('Mean price €')\n",
    "plt.show()"
   ]
  },
  {
   "source": [
    "We can notice from the graph that :  \n",
    "- The trains are more expensive than than buses and carpooling"
   ],
   "cell_type": "markdown",
   "metadata": {}
  },
  {
   "source": [
    "### For the duration per transport type per distance"
   ],
   "cell_type": "markdown",
   "metadata": {}
  },
  {
   "cell_type": "code",
   "execution_count": 25,
   "metadata": {},
   "outputs": [
    {
     "output_type": "display_data",
     "data": {
      "text/plain": "<Figure size 432x288 with 1 Axes>",
      "image/png": "[encoded data removed]"
     },
     "metadata": {
      "needs_background": "light"
     }
    }
   ],
   "source": [
    "bins = [0, 200, 800, 2000, float('inf')]\n",
    "labels = ['0-200', '201-800', '801-2000', '+2001']\n",
    "ticket_data['distance_interval'] = pd.cut(ticket_data['distance'], bins, labels=labels, include_lowest=True)\n",
    "bus = ticket_data[(ticket_data['bus']==1)]\n",
    "mBus = bus.groupby('distance_interval')['duration'].mean()\n",
    "mBus[3] = 0 if pd.isna(mBus[3]) else mBus[3]\n",
    "train = ticket_data[(ticket_data['train']==1)]\n",
    "mTrain = train.groupby('distance_interval')['duration'].mean()\n",
    "mTrain[3] = 0 if pd.isna(mTrain[3]) else mTrain[3]\n",
    "carpooling = ticket_data[(ticket_data['carpooling']==1)]\n",
    "mCarpooling = carpooling.groupby('distance_interval')['duration'].mean()\n",
    "mCarpooling[3] = 0 if pd.isna(mCarpooling[3]) else mCarpooling[3]\n",
    "ax = plt.subplot(111)\n",
    "barPositions = [1, 2, 3, 4]\n",
    "rBus = ax.bar(np.add((np.array(barPositions)), -0.2), mBus, width=0.2, color='r', align='center')\n",
    "rTrain = ax.bar(np.add((np.array(barPositions)), 0), mTrain, width=0.2, color='g', align='center')\n",
    "rCarpooling = ax.bar(np.add((np.array(barPositions)), +0.2), mCarpooling, width=0.2, color='b', align='center')\n",
    "# labels and legend\n",
    "ax.set_xticks(barPositions)\n",
    "ax.set_xticklabels(labels)\n",
    "colors = {'bus':'red', 'train':'green', 'carpooling':'blue'}         \n",
    "labels = list(colors.keys())\n",
    "handles = [plt.Rectangle((0,0),1,1, color=colors[label]) for label in labels]\n",
    "plt.legend(handles, labels)\n",
    "plt.xlabel('Distance KM')\n",
    "plt.ylabel('Mean duration Hours')\n",
    "plt.show()"
   ]
  },
  {
   "source": [
    "We can notice from the graph that :  \n",
    "- The bus takes more time compared to the train and carpooling"
   ],
   "cell_type": "markdown",
   "metadata": {}
  }
 ]
}