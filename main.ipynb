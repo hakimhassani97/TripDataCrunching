{
 "metadata": {
  "language_info": {
   "codemirror_mode": {
    "name": "ipython",
    "version": 3
   },
   "file_extension": ".py",
   "mimetype": "text/x-python",
   "name": "python",
   "nbconvert_exporter": "python",
   "pygments_lexer": "ipython3",
   "version": "3.6.9-final"
  },
  "orig_nbformat": 2,
  "kernelspec": {
   "name": "python3",
   "display_name": "Python 3",
   "language": "python"
  }
 },
 "nbformat": 4,
 "nbformat_minor": 2,
 "cells": [
  {
   "source": [
    "# TicTacTrip data crunching"
   ],
   "cell_type": "markdown",
   "metadata": {}
  },
  {
   "source": [
    "## Question 1"
   ],
   "cell_type": "markdown",
   "metadata": {}
  },
  {
   "source": [
    "**basic imports**"
   ],
   "cell_type": "markdown",
   "metadata": {}
  },
  {
   "cell_type": "code",
   "execution_count": 1,
   "metadata": {},
   "outputs": [],
   "source": [
    "import numpy as np\n",
    "import pandas as pd"
   ]
  },
  {
   "source": [
    "**load the dataset**"
   ],
   "cell_type": "markdown",
   "metadata": {}
  },
  {
   "cell_type": "code",
   "execution_count": 2,
   "metadata": {},
   "outputs": [],
   "source": [
    "cities = pd.read_csv('data/cities.csv')\n",
    "providers = pd.read_csv('data/providers.csv')\n",
    "stations = pd.read_csv('data/stations.csv')\n",
    "ticket_data = pd.read_csv('data/ticket_data.csv')"
   ]
  },
  {
   "cell_type": "code",
   "execution_count": 3,
   "metadata": {},
   "outputs": [],
   "source": [
    "dataset = {'cities': cities, 'providers': providers, 'stations': stations, 'ticket_data': ticket_data}"
   ]
  },
  {
   "source": [
    "**Price statistics**"
   ],
   "cell_type": "markdown",
   "metadata": {}
  },
  {
   "cell_type": "code",
   "execution_count": 4,
   "metadata": {},
   "outputs": [
    {
     "output_type": "stream",
     "name": "stdout",
     "text": [
      "_________________________________________________________\n    Price statistics\n_________________________________________________________\n    number of NAN values in price_in_cents = 0\n    number of trips = 74168\n    min price = 3.0 €\n    max price = 385.5 €\n    median price = 33.5 €\n    mean price = 43.83 €\n    most trips have a price = 17.0 €\n_________________________________________________________\n"
     ]
    }
   ],
   "source": [
    "print('_________________________________________________________')\n",
    "print('    Price statistics')\n",
    "print('_________________________________________________________')\n",
    "print('    number of NAN values in price_in_cents =', ticket_data['price_in_cents'].isna().sum())\n",
    "print('    number of trips =', len(ticket_data))\n",
    "print('    min price =', round(ticket_data['price_in_cents'].min()/100, 2), '€')\n",
    "print('    max price =', round(ticket_data['price_in_cents'].max()/100, 2), '€')\n",
    "print('    median price =', round(ticket_data['price_in_cents'].median()/100, 2), '€')\n",
    "print('    mean price =', round(ticket_data['price_in_cents'].mean()/100, 2), '€')\n",
    "print('    most trips have a price =', round(ticket_data['price_in_cents'].value_counts().idxmax()/100, 2), '€')\n",
    "print('_________________________________________________________')"
   ]
  },
  {
   "cell_type": "code",
   "execution_count": 5,
   "metadata": {},
   "outputs": [
    {
     "output_type": "display_data",
     "data": {
      "text/plain": "<Figure size 640x480 with 1 Axes>"
     },
     "metadata": {}
    }
   ],
   "source": [
    "import matplotlib.pyplot as plt\n",
    "ticket_data['price'] = round(ticket_data['price_in_cents'] / 100, 2)\n",
    "ticket_data['bin'] = pd.cut(ticket_data['price'], bins=5)\n",
    "ticket_data.groupby('bin')['price'].count().plot(kind='bar', width=0.98)\n",
    "plt.xlabel('Price €')\n",
    "plt.ylabel('Number of trips')\n",
    "plt.show()"
   ]
  },
  {
   "cell_type": "code",
   "execution_count": 6,
   "metadata": {},
   "outputs": [
    {
     "output_type": "display_data",
     "data": {
      "text/plain": "<Figure size 432x288 with 1 Axes>",
      "image/png": "[encoded data removed]"
     },
     "metadata": {
      "needs_background": "light"
     }
    }
   ],
   "source": [
    "import matplotlib.pyplot as plt\n",
    "ticket_data['price'] = round(ticket_data['price_in_cents'] / 100, 2)\n",
    "plt.hist(ticket_data['price'], bins=5, color='c', edgecolor='k', alpha=0.65)\n",
    "plt.xlabel('Price €')\n",
    "plt.ylabel('Number of trips')\n",
    "# axe of mean\n",
    "min_ylim, max_ylim = plt.ylim()\n",
    "plt.text(ticket_data['price'].mean()*1.1, max_ylim*0.8, 'Mean: {:.2f} €'.format(ticket_data['price'].mean()), color='b')\n",
    "plt.axvline(ticket_data['price'].mean(), color='b', linestyle='dashed', linewidth=1)\n",
    "# axe of median\n",
    "min_ylim, max_ylim = plt.ylim()\n",
    "plt.text(ticket_data['price'].median()*1.1, max_ylim*0.9, 'Median: {:.2f} €'.format(ticket_data['price'].median()), color='r')\n",
    "plt.axvline(ticket_data['price'].median(), color='r', linestyle='dotted', linewidth=1)\n",
    "plt.show()"
   ]
  },
  {
   "source": [
    "**Duration statistics**"
   ],
   "cell_type": "markdown",
   "metadata": {}
  },
  {
   "source": [
    "first we need to get the duration from the ticket information"
   ],
   "cell_type": "markdown",
   "metadata": {}
  },
  {
   "cell_type": "code",
   "execution_count": 7,
   "metadata": {},
   "outputs": [],
   "source": [
    "# add duration column in hours\n",
    "fmt = '%Y-%m-%d %H:%M:%S+%f'\n",
    "ticket_data['departure_ts'] = pd.to_datetime(ticket_data['departure_ts'], format=fmt)\n",
    "ticket_data['arrival_ts'] = pd.to_datetime(ticket_data['arrival_ts'], format=fmt)\n",
    "ticket_data['duration'] = ticket_data['arrival_ts'] - ticket_data['departure_ts']\n",
    "ticket_data['duration'] = round(ticket_data['duration'].dt.seconds / 3600, 2)"
   ]
  },
  {
   "cell_type": "code",
   "execution_count": 8,
   "metadata": {},
   "outputs": [
    {
     "output_type": "stream",
     "name": "stdout",
     "text": [
      "_________________________________________________________\n    Duration statistics\n_________________________________________________________\n    number of NAN values in departure_ts = 0\n    number of NAN values in arrival_ts = 0\n    min duration = 0.0 hours\n    max duration = 23.97 hours\n    median duration = 4.82 hours\n    mean duration = 6.02 hours\n    most trips have a duration = 2.5 hours\n_________________________________________________________\n"
     ]
    }
   ],
   "source": [
    "print('_________________________________________________________')\n",
    "print('    Duration statistics')\n",
    "print('_________________________________________________________')\n",
    "print('    number of NAN values in departure_ts =', ticket_data['departure_ts'].isna().sum())\n",
    "print('    number of NAN values in arrival_ts =', ticket_data['arrival_ts'].isna().sum())\n",
    "print('    min duration =', round(ticket_data['duration'].min(), 2), 'hours')\n",
    "print('    max duration =', round(ticket_data['duration'].max(), 2), 'hours')\n",
    "print('    median duration =', round(ticket_data['duration'].median(), 2), 'hours')\n",
    "print('    mean duration =', round(ticket_data['duration'].mean(), 2), 'hours')\n",
    "print('    most trips have a duration =', round(ticket_data['duration'].value_counts().idxmax(), 2), 'hours')\n",
    "print('_________________________________________________________')"
   ]
  },
  {
   "cell_type": "code",
   "execution_count": 9,
   "metadata": {},
   "outputs": [
    {
     "output_type": "display_data",
     "data": {
      "text/plain": "<Figure size 432x288 with 1 Axes>",
      "image/png": "[encoded data removed]"
     },
     "metadata": {
      "needs_background": "light"
     }
    }
   ],
   "source": [
    "plt.hist(ticket_data['duration'], bins=5, color='g', edgecolor='k', alpha=0.65)\n",
    "plt.xlabel('Duration in hours')\n",
    "plt.ylabel('Number of trips')\n",
    "# axe of mean\n",
    "min_ylim, max_ylim = plt.ylim()\n",
    "plt.text(ticket_data['duration'].mean()*1.1, max_ylim*0.8, 'Mean: {:.2f} €'.format(ticket_data['duration'].mean()), color='b')\n",
    "plt.axvline(ticket_data['duration'].mean(), color='b', linestyle='dashed', linewidth=1)\n",
    "# axe of median\n",
    "min_ylim, max_ylim = plt.ylim()\n",
    "plt.text(ticket_data['duration'].median()*1.1, max_ylim*0.9, 'Median: {:.2f} €'.format(ticket_data['duration'].median()), color='r')\n",
    "plt.axvline(ticket_data['duration'].median(), color='r', linestyle='dotted', linewidth=1)\n",
    "plt.show()"
   ]
  },
  {
   "source": [
    "## Question 2"
   ],
   "cell_type": "markdown",
   "metadata": {}
  },
  {
   "source": [
    "First we need to cd to our current folder"
   ],
   "cell_type": "markdown",
   "metadata": {}
  },
  {
   "cell_type": "code",
   "execution_count": 10,
   "metadata": {},
   "outputs": [],
   "source": [
    "import os\n",
    "os.getcwd()\n",
    "os.chdir(\"D:/HAKIM/M1 IA S2/Stage/TicTacTrip/code/\")\n",
    "os.getcwd()\n",
    "! set PYTHONPATH=%PYTHONPATH%;D:/HAKIM/M1 IA S2/Stage/TicTacTrip/code/"
   ]
  },
  {
   "cell_type": "code",
   "execution_count": 53,
   "metadata": {},
   "outputs": [],
   "source": [
    "from modules.Geo import Geo\n",
    "from modules.Manager import Manager\n",
    "# ticket_data['transport_types'] = ticket_data.apply(lambda ticket: Manager.transportTypesOfTicketObject(ticket, providers), axis=1)\n",
    "# cp = ticket_data['transport_types']\n",
    "# bus = pd.DataFrame({'bus': ticket_data['transport_types'].apply(lambda e: 1 if 'bus' in e else 0)})\n",
    "# car = pd.DataFrame({'car': ticket_data['transport_types'].apply(lambda e: 1 if 'car' in e else 0)})\n",
    "# train = pd.DataFrame({'train': ticket_data['transport_types'].apply(lambda e: 1 if 'train' in e else 0)})\n",
    "# carpooling = pd.DataFrame({'carpooling': ticket_data['transport_types'].apply(lambda e: 1 if 'carpooling' in e else 0)})\n",
    "# res = bus.join(car).join(train).join(carpooling)\n",
    "# ticket_data = ticket_data.join(res)\n",
    "# print(ticket_data)\n",
    "# del ticket_data['transport_types']\n",
    "# ticket_data.to_csv('data/ticket_data_transport_type.csv', encoding='utf-8', index=False)\n",
    "# print(Manager.transportTypesOfTicket(6795025, ticket_data, providers))\n",
    "# print(Geo.getLatLongStation(2, stations))\n",
    "# print(Geo.distanceOfTicket(6795027, ticket_data, stations), 'km')"
   ]
  },
  {
   "source": [
    "**Pour les trains**"
   ],
   "cell_type": "markdown",
   "metadata": {}
  },
  {
   "cell_type": "code",
   "execution_count": null,
   "metadata": {},
   "outputs": [],
   "source": [
    "ticket_data['price'] = round(ticket_data['price_in_cents'] / 100, 2)\n",
    "ticket_data['bin'] = pd.cut(ticket_data['price'], bins=5)\n",
    "ticket_data.groupby('bin')['price'].count().plot(kind='bar', width=0.98)\n",
    "plt.xlabel('Price €')\n",
    "plt.ylabel('Number of trips')\n",
    "plt.show()"
   ]
  },
  {
   "cell_type": "code",
   "execution_count": null,
   "metadata": {},
   "outputs": [],
   "source": [
    "ticket_data['distance'] = ticket_data.loc[['lat', 'lon']]\n",
    "ticket_data['distance'] = round(ticket_data['distance'], 2)"
   ]
  },
  {
   "cell_type": "code",
   "execution_count": null,
   "metadata": {},
   "outputs": [],
   "source": [
    "lat1 = 52.2296756\n",
    "lon1 = 21.0122287\n",
    "lat2 = 52.406374\n",
    "lon2 = 16.9251681\n",
    "print(Helpers.distance(lat1, lon1, lat2, lon2))\n",
    "print(Helpers.distanceTrip([(lat1, lon1), (lat2, lon2)]))\n",
    "print(Helpers.distanceTrip([(lat1, lon1), (lat2, lon2), (lat1, lon1)]))\n",
    "print(Helpers.distanceTrip([(lat1, lon1), (lat2, lon2), (lat2, lon2)]))"
   ]
  },
  {
   "cell_type": "code",
   "execution_count": null,
   "metadata": {},
   "outputs": [],
   "source": []
  }
 ]
}