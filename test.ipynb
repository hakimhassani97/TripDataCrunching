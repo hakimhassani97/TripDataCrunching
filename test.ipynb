{
 "metadata": {
  "language_info": {
   "codemirror_mode": {
    "name": "ipython",
    "version": 3
   },
   "file_extension": ".py",
   "mimetype": "text/x-python",
   "name": "python",
   "nbconvert_exporter": "python",
   "pygments_lexer": "ipython3",
   "version": "3.7.8-final"
  },
  "orig_nbformat": 2,
  "kernelspec": {
   "name": "python3",
   "display_name": "Python 3",
   "language": "python"
  }
 },
 "nbformat": 4,
 "nbformat_minor": 2,
 "cells": [
  {
   "source": [
    "# TicTacTrip data crunching"
   ],
   "cell_type": "markdown",
   "metadata": {}
  },
  {
   "source": [
    "**basic imports**"
   ],
   "cell_type": "markdown",
   "metadata": {}
  },
  {
   "cell_type": "code",
   "execution_count": 8,
   "metadata": {},
   "outputs": [],
   "source": [
    "import numpy as np\n",
    "import pandas as pd"
   ]
  },
  {
   "source": [
    "**load the dataset**"
   ],
   "cell_type": "markdown",
   "metadata": {}
  },
  {
   "cell_type": "code",
   "execution_count": 9,
   "metadata": {},
   "outputs": [],
   "source": [
    "cities = pd.read_csv('data/cities.csv')\n",
    "providers = pd.read_csv('data/providers.csv')\n",
    "stations = pd.read_csv('data/stations.csv')\n",
    "ticket_data = pd.read_csv('data/ticket_data.csv')"
   ]
  },
  {
   "cell_type": "code",
   "execution_count": 10,
   "metadata": {},
   "outputs": [],
   "source": [
    "dataset = {'cities': cities, 'providers': providers, 'stations': stations, 'ticket_data': ticket_data}"
   ]
  },
  {
   "source": [
    "**Price statistics**"
   ],
   "cell_type": "markdown",
   "metadata": {}
  },
  {
   "cell_type": "code",
   "execution_count": 13,
   "metadata": {},
   "outputs": [
    {
     "output_type": "stream",
     "name": "stdout",
     "text": [
      "_________________________________________________________\n    Price statistics\n_________________________________________________________\n    number of NAN values in price_in_cents = 0\n    min price = 3.0 €\n    max price = 385.5 €\n    median price = 33.5 €\n    mean price = 43.83 €\n    most trips have a price = 17.0 €\n_________________________________________________________\n"
     ]
    }
   ],
   "source": [
    "print('_________________________________________________________')\n",
    "print('    Price statistics')\n",
    "print('_________________________________________________________')\n",
    "print('    number of NAN values in price_in_cents =', ticket_data['price_in_cents'].isna().sum())\n",
    "print('    min price =', round(ticket_data['price_in_cents'].min()/100, 2), '€')\n",
    "print('    max price =', round(ticket_data['price_in_cents'].max()/100, 2), '€')\n",
    "print('    median price =', round(ticket_data['price_in_cents'].median()/100, 2), '€')\n",
    "print('    mean price =', round(ticket_data['price_in_cents'].mean()/100, 2), '€')\n",
    "print('    most trips have a price =', round(ticket_data['price_in_cents'].value_counts().idxmax()/100, 2), '€')\n",
    "print('_________________________________________________________')"
   ]
  },
  {
   "cell_type": "code",
   "execution_count": 4,
   "metadata": {},
   "outputs": [],
   "source": [
    "from helpers import Helpers"
   ]
  },
  {
   "cell_type": "code",
   "execution_count": 5,
   "metadata": {},
   "outputs": [
    {
     "output_type": "stream",
     "name": "stdout",
     "text": [
      "278.54558935106695\n278.54558935106695\n557.0911787021339\n278.54558935106695\n"
     ]
    }
   ],
   "source": [
    "from math import radians\n",
    "lat1 = radians(52.2296756)\n",
    "lon1 = radians(21.0122287)\n",
    "lat2 = radians(52.406374)\n",
    "lon2 = radians(16.9251681)\n",
    "print(Helpers.distance(lat1, lon1, lat2, lon2))\n",
    "print(Helpers.distanceTrip([(lat1, lon1), (lat2, lon2)]))\n",
    "print(Helpers.distanceTrip([(lat1, lon1), (lat2, lon2), (lat1, lon1)]))\n",
    "print(Helpers.distanceTrip([(lat1, lon1), (lat2, lon2), (lat2, lon2)]))"
   ]
  },
  {
   "cell_type": "code",
   "execution_count": null,
   "metadata": {},
   "outputs": [],
   "source": []
  }
 ]
}